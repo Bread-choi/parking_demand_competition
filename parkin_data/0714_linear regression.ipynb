{
 "cells": [
  {
   "cell_type": "markdown",
   "metadata": {},
   "source": [
    "### 선형 모델 및 Lasso, Ridge 모델 만들고 적용하기"
   ]
  },
  {
   "cell_type": "code",
   "execution_count": 1,
   "metadata": {},
   "outputs": [],
   "source": [
    "import matplotlib.pyplot as plt\n",
    "import seaborn as sns\n",
    "from sklearn.linear_model import LinearRegression"
   ]
  },
  {
   "cell_type": "code",
   "execution_count": 2,
   "metadata": {},
   "outputs": [
    {
     "data": {
      "text/plain": [
       "((2896, 15), (1008, 14), (150, 2), (16, 23))"
      ]
     },
     "execution_count": 2,
     "metadata": {},
     "output_type": "execute_result"
    }
   ],
   "source": [
    "import pandas as pd\n",
    "train = pd.read_csv(\"train_df_errno.csv\")\n",
    "test = pd.read_csv(\"test_df.csv\")\n",
    "sub = pd.read_csv(\"sample_submission.csv\")\n",
    "age = pd.read_csv(\"age_gender_info.csv\")\n",
    "train.shape, test.shape, sub.shape, age.shape"
   ]
  },
  {
   "cell_type": "code",
   "execution_count": 3,
   "metadata": {},
   "outputs": [
    {
     "name": "stdout",
     "output_type": "stream",
     "text": [
      "<class 'pandas.core.frame.DataFrame'>\n",
      "RangeIndex: 2896 entries, 0 to 2895\n",
      "Data columns (total 15 columns):\n",
      " #   Column      Non-Null Count  Dtype  \n",
      "---  ------      --------------  -----  \n",
      " 0   단지코드        2896 non-null   object \n",
      " 1   총세대수        2896 non-null   int64  \n",
      " 2   임대건물구분      2896 non-null   object \n",
      " 3   지역          2896 non-null   object \n",
      " 4   공급유형        2896 non-null   object \n",
      " 5   전용면적        2896 non-null   float64\n",
      " 6   전용면적별세대수    2896 non-null   int64  \n",
      " 7   공가수         2896 non-null   float64\n",
      " 8   자격유형        2896 non-null   object \n",
      " 9   임대보증금       2327 non-null   object \n",
      " 10  임대료         2327 non-null   object \n",
      " 11  10분내지하철수    2685 non-null   float64\n",
      " 12  10분내버스정류장수  2892 non-null   float64\n",
      " 13  단지내주차면수     2896 non-null   float64\n",
      " 14  등록차량수       2896 non-null   float64\n",
      "dtypes: float64(6), int64(2), object(7)\n",
      "memory usage: 339.5+ KB\n"
     ]
    }
   ],
   "source": [
    "train.info()"
   ]
  },
  {
   "cell_type": "code",
   "execution_count": 4,
   "metadata": {},
   "outputs": [
    {
     "data": {
      "text/plain": [
       "(Index(['단지코드', '총세대수', '임대건물구분', '지역', '공급유형', '전용면적', '전용면적별세대수', '공가수',\n",
       "        '자격유형', '임대보증금', '임대료', '10분내지하철수', '10분내버스정류장수', '단지내주차면수', '등록차량수'],\n",
       "       dtype='object'),\n",
       " Index(['단지코드', '총세대수', '임대건물구분', '지역', '공급유형', '전용면적', '전용면적별세대수', '공가수',\n",
       "        '자격유형', '임대보증금', '임대료', '10분내지하철수', '10분내버스정류장수', '단지내주차면수'],\n",
       "       dtype='object'))"
      ]
     },
     "execution_count": 4,
     "metadata": {},
     "output_type": "execute_result"
    }
   ],
   "source": [
    "train.columns, test.columns"
   ]
  },
  {
   "cell_type": "code",
   "execution_count": 5,
   "metadata": {},
   "outputs": [
    {
     "data": {
      "text/html": [
       "<div>\n",
       "<style scoped>\n",
       "    .dataframe tbody tr th:only-of-type {\n",
       "        vertical-align: middle;\n",
       "    }\n",
       "\n",
       "    .dataframe tbody tr th {\n",
       "        vertical-align: top;\n",
       "    }\n",
       "\n",
       "    .dataframe thead th {\n",
       "        text-align: right;\n",
       "    }\n",
       "</style>\n",
       "<table border=\"1\" class=\"dataframe\">\n",
       "  <thead>\n",
       "    <tr style=\"text-align: right;\">\n",
       "      <th></th>\n",
       "      <th>단지코드</th>\n",
       "      <th>총세대수</th>\n",
       "      <th>임대건물구분</th>\n",
       "      <th>지역</th>\n",
       "      <th>공급유형</th>\n",
       "      <th>전용면적</th>\n",
       "      <th>전용면적별세대수</th>\n",
       "      <th>공가수</th>\n",
       "      <th>자격유형</th>\n",
       "      <th>임대보증금</th>\n",
       "      <th>임대료</th>\n",
       "      <th>10분내지하철수</th>\n",
       "      <th>10분내버스정류장수</th>\n",
       "      <th>단지내주차면수</th>\n",
       "      <th>등록차량수</th>\n",
       "    </tr>\n",
       "  </thead>\n",
       "  <tbody>\n",
       "    <tr>\n",
       "      <th>0</th>\n",
       "      <td>C2515</td>\n",
       "      <td>545</td>\n",
       "      <td>아파트</td>\n",
       "      <td>경상남도</td>\n",
       "      <td>국민임대</td>\n",
       "      <td>33.48</td>\n",
       "      <td>276</td>\n",
       "      <td>17.0</td>\n",
       "      <td>A</td>\n",
       "      <td>9216000</td>\n",
       "      <td>82940</td>\n",
       "      <td>0.0</td>\n",
       "      <td>3.0</td>\n",
       "      <td>624.0</td>\n",
       "      <td>205.0</td>\n",
       "    </tr>\n",
       "    <tr>\n",
       "      <th>1</th>\n",
       "      <td>C2515</td>\n",
       "      <td>545</td>\n",
       "      <td>아파트</td>\n",
       "      <td>경상남도</td>\n",
       "      <td>국민임대</td>\n",
       "      <td>39.60</td>\n",
       "      <td>60</td>\n",
       "      <td>17.0</td>\n",
       "      <td>A</td>\n",
       "      <td>12672000</td>\n",
       "      <td>107130</td>\n",
       "      <td>0.0</td>\n",
       "      <td>3.0</td>\n",
       "      <td>624.0</td>\n",
       "      <td>205.0</td>\n",
       "    </tr>\n",
       "    <tr>\n",
       "      <th>2</th>\n",
       "      <td>C2515</td>\n",
       "      <td>545</td>\n",
       "      <td>아파트</td>\n",
       "      <td>경상남도</td>\n",
       "      <td>국민임대</td>\n",
       "      <td>39.60</td>\n",
       "      <td>20</td>\n",
       "      <td>17.0</td>\n",
       "      <td>A</td>\n",
       "      <td>12672000</td>\n",
       "      <td>107130</td>\n",
       "      <td>0.0</td>\n",
       "      <td>3.0</td>\n",
       "      <td>624.0</td>\n",
       "      <td>205.0</td>\n",
       "    </tr>\n",
       "    <tr>\n",
       "      <th>3</th>\n",
       "      <td>C2515</td>\n",
       "      <td>545</td>\n",
       "      <td>아파트</td>\n",
       "      <td>경상남도</td>\n",
       "      <td>국민임대</td>\n",
       "      <td>46.90</td>\n",
       "      <td>38</td>\n",
       "      <td>17.0</td>\n",
       "      <td>A</td>\n",
       "      <td>18433000</td>\n",
       "      <td>149760</td>\n",
       "      <td>0.0</td>\n",
       "      <td>3.0</td>\n",
       "      <td>624.0</td>\n",
       "      <td>205.0</td>\n",
       "    </tr>\n",
       "    <tr>\n",
       "      <th>4</th>\n",
       "      <td>C2515</td>\n",
       "      <td>545</td>\n",
       "      <td>아파트</td>\n",
       "      <td>경상남도</td>\n",
       "      <td>국민임대</td>\n",
       "      <td>46.90</td>\n",
       "      <td>19</td>\n",
       "      <td>17.0</td>\n",
       "      <td>A</td>\n",
       "      <td>18433000</td>\n",
       "      <td>149760</td>\n",
       "      <td>0.0</td>\n",
       "      <td>3.0</td>\n",
       "      <td>624.0</td>\n",
       "      <td>205.0</td>\n",
       "    </tr>\n",
       "  </tbody>\n",
       "</table>\n",
       "</div>"
      ],
      "text/plain": [
       "    단지코드  총세대수 임대건물구분    지역  공급유형   전용면적  전용면적별세대수   공가수 자격유형     임대보증금  \\\n",
       "0  C2515   545    아파트  경상남도  국민임대  33.48       276  17.0    A   9216000   \n",
       "1  C2515   545    아파트  경상남도  국민임대  39.60        60  17.0    A  12672000   \n",
       "2  C2515   545    아파트  경상남도  국민임대  39.60        20  17.0    A  12672000   \n",
       "3  C2515   545    아파트  경상남도  국민임대  46.90        38  17.0    A  18433000   \n",
       "4  C2515   545    아파트  경상남도  국민임대  46.90        19  17.0    A  18433000   \n",
       "\n",
       "      임대료  10분내지하철수  10분내버스정류장수  단지내주차면수  등록차량수  \n",
       "0   82940       0.0         3.0    624.0  205.0  \n",
       "1  107130       0.0         3.0    624.0  205.0  \n",
       "2  107130       0.0         3.0    624.0  205.0  \n",
       "3  149760       0.0         3.0    624.0  205.0  \n",
       "4  149760       0.0         3.0    624.0  205.0  "
      ]
     },
     "execution_count": 5,
     "metadata": {},
     "output_type": "execute_result"
    }
   ],
   "source": [
    "train.head()"
   ]
  },
  {
   "cell_type": "markdown",
   "metadata": {},
   "source": [
    "### 단순 선형 회귀모델 만들기"
   ]
  },
  {
   "cell_type": "code",
   "execution_count": 6,
   "metadata": {},
   "outputs": [],
   "source": [
    "from sklearn.model_selection import train_test_split\n",
    "from sklearn.linear_model import LinearRegression"
   ]
  },
  {
   "cell_type": "code",
   "execution_count": 16,
   "metadata": {},
   "outputs": [
    {
     "data": {
      "text/plain": [
       "((2172, 5), (724, 5), (2172,), (724,))"
      ]
     },
     "execution_count": 16,
     "metadata": {},
     "output_type": "execute_result"
    }
   ],
   "source": [
    "#  처음에 단순선형 하면서 총세대수만 함\n",
    "# Lasso 들어오면서 5개로 feature 늘림\n",
    "sel= ['총세대수','전용면적','전용면적별세대수','공가수','단지내주차면수']\n",
    "X = train[sel]\n",
    "y = train['등록차량수']\n",
    "\n",
    "X_train, X_test, y_train, y_test =train_test_split(X,y, random_state=0)\n",
    "X_train.shape , X_test.shape, y_train.shape, y_test.shape"
   ]
  },
  {
   "cell_type": "markdown",
   "metadata": {},
   "source": [
    "### 모델만들기"
   ]
  },
  {
   "cell_type": "code",
   "execution_count": 8,
   "metadata": {},
   "outputs": [],
   "source": [
    "model = LinearRegression()   # 모델 생성\n",
    "model.fit(X_train, y_train)  # 모델 훈련\n",
    "pred = model.predict(X_test) # 새로운 데이터로 예측"
   ]
  },
  {
   "cell_type": "code",
   "execution_count": 9,
   "metadata": {},
   "outputs": [
    {
     "data": {
      "text/plain": [
       "(array([-0.15912372,  0.48962892,  0.0719852 , -6.98404745,  1.09596934]),\n",
       " 100.64601235358572)"
      ]
     },
     "execution_count": 9,
     "metadata": {},
     "output_type": "execute_result"
    }
   ],
   "source": [
    "model.coef_, model.intercept_"
   ]
  },
  {
   "cell_type": "markdown",
   "metadata": {},
   "source": [
    "### 모델 평가하기"
   ]
  },
  {
   "cell_type": "code",
   "execution_count": 10,
   "metadata": {},
   "outputs": [],
   "source": [
    "import numpy as np"
   ]
  },
  {
   "cell_type": "code",
   "execution_count": 11,
   "metadata": {},
   "outputs": [
    {
     "data": {
      "text/plain": [
       "149.12933411602248"
      ]
     },
     "execution_count": 11,
     "metadata": {},
     "output_type": "execute_result"
    }
   ],
   "source": [
    "#mae, mse, rmse\n",
    "mae_val = np.sum( abs( y_test - pred) ) / len(pred)\n",
    "mae_val"
   ]
  },
  {
   "cell_type": "code",
   "execution_count": 12,
   "metadata": {},
   "outputs": [
    {
     "data": {
      "text/plain": [
       "149.1293341160224"
      ]
     },
     "execution_count": 12,
     "metadata": {},
     "output_type": "execute_result"
    }
   ],
   "source": [
    "np.mean( abs(y_test-pred)  )"
   ]
  },
  {
   "cell_type": "markdown",
   "metadata": {},
   "source": [
    "### MSE"
   ]
  },
  {
   "cell_type": "code",
   "execution_count": 13,
   "metadata": {},
   "outputs": [
    {
     "name": "stdout",
     "output_type": "stream",
     "text": [
      "42701.70133960169\n",
      "42701.70133960169\n"
     ]
    }
   ],
   "source": [
    "mse_val= np.sum(   (y_test-pred)**2 ) /len(pred)\n",
    "print(mse_val)\n",
    "mse_val= np.mean( (y_test-pred)**2 )\n",
    "print(mse_val)"
   ]
  },
  {
   "cell_type": "markdown",
   "metadata": {},
   "source": [
    "### RMSE"
   ]
  },
  {
   "cell_type": "code",
   "execution_count": 14,
   "metadata": {},
   "outputs": [
    {
     "name": "stdout",
     "output_type": "stream",
     "text": [
      "206.64389983641348\n",
      "206.64389983641348\n"
     ]
    }
   ],
   "source": [
    "rmse_val = mse_val **0.5\n",
    "print(rmse_val)\n",
    "rmse_val = np.sqrt(mse_val)\n",
    "print(rmse_val)"
   ]
  },
  {
   "cell_type": "markdown",
   "metadata": {},
   "source": [
    "### 피처수 늘리기"
   ]
  },
  {
   "cell_type": "code",
   "execution_count": 19,
   "metadata": {},
   "outputs": [],
   "source": [
    "from sklearn.preprocessing import MinMaxScaler, PolynomialFeatures"
   ]
  },
  {
   "cell_type": "code",
   "execution_count": 20,
   "metadata": {},
   "outputs": [],
   "source": [
    "sel = ['총세대수', '전용면적', '전용면적별세대수', '공가수', '단지내주차면수']\n",
    "X = train[sel]\n",
    "y = train['등록차량수']\n",
    "nor_X = MinMaxScaler().fit_transform(X)  # 입력 데이터 정규화\n",
    "ex_X = PolynomialFeatures(degree=2, include_bias=False).fit_transform(nor_X)  # 데이터 feature 추가 생성\n",
    "X_train, X_test, y_train, y_test = train_test_split(ex_X, y, random_state=0)"
   ]
  },
  {
   "cell_type": "code",
   "execution_count": 21,
   "metadata": {},
   "outputs": [
    {
     "data": {
      "text/plain": [
       "(2172, 20)"
      ]
     },
     "execution_count": 21,
     "metadata": {},
     "output_type": "execute_result"
    }
   ],
   "source": [
    "X_train.shape"
   ]
  },
  {
   "cell_type": "markdown",
   "metadata": {},
   "source": [
    "### LASSO 모델 적용하기"
   ]
  },
  {
   "cell_type": "code",
   "execution_count": 23,
   "metadata": {},
   "outputs": [],
   "source": [
    "from sklearn.linear_model import Lasso,Ridge"
   ]
  },
  {
   "cell_type": "code",
   "execution_count": 27,
   "metadata": {},
   "outputs": [
    {
     "data": {
      "text/plain": [
       "array([2034.15114024,  368.91598673,  824.17931433,  496.8976281 ,\n",
       "        121.24109349,  742.33586207,  438.66678347,  291.25489882,\n",
       "        627.84464153,  432.58897793])"
      ]
     },
     "execution_count": 27,
     "metadata": {},
     "output_type": "execute_result"
    }
   ],
   "source": [
    "model = Lasso(alpha=0.01)\n",
    "model.fit(X_train,y_train)\n",
    "pred = model.predict(X_test)\n",
    "pred[0:10]"
   ]
  },
  {
   "cell_type": "code",
   "execution_count": 26,
   "metadata": {},
   "outputs": [
    {
     "data": {
      "text/plain": [
       "array([  -10.1263555 ,  1190.20115145,  -187.42652318,   330.12348095,\n",
       "        1604.45785474,  -533.83686613, -2076.54678837,  1329.63865233,\n",
       "         293.55663998,  1077.94559216,  -452.95657097,  3604.89611386,\n",
       "         439.68006605,  3542.38639166, -1267.2875676 ,   346.19657   ,\n",
       "        -101.5081487 ,  -330.71549027, -1541.75256794,  -241.13484863])"
      ]
     },
     "execution_count": 26,
     "metadata": {},
     "output_type": "execute_result"
    }
   ],
   "source": [
    "model.coef_    #가중치 보기"
   ]
  },
  {
   "cell_type": "markdown",
   "metadata": {},
   "source": [
    "### 평가하기(mae,mse,rmse)"
   ]
  },
  {
   "cell_type": "code",
   "execution_count": 28,
   "metadata": {},
   "outputs": [
    {
     "name": "stdout",
     "output_type": "stream",
     "text": [
      "130.31797654776875\n",
      "34266.26334355182\n",
      "185.11148895612024\n"
     ]
    }
   ],
   "source": [
    "mae_val = np.mean( abs( y_test - pred) )\n",
    "print(mae_val)\n",
    "mse_val = np.mean((y_test-pred)**2)\n",
    "print(mse_val)\n",
    "rmse_val =mse_val**0.5\n",
    "print(rmse_val)"
   ]
  },
  {
   "cell_type": "markdown",
   "metadata": {},
   "source": [
    "### Ridge모델 적용하기"
   ]
  },
  {
   "cell_type": "code",
   "execution_count": 29,
   "metadata": {},
   "outputs": [
    {
     "data": {
      "text/plain": [
       "array([2017.26924206,  368.42107124,  821.85083007,  497.6633284 ,\n",
       "        119.62607584,  743.81368402,  437.08916815,  290.93181935,\n",
       "        632.97896544,  433.76306719])"
      ]
     },
     "execution_count": 29,
     "metadata": {},
     "output_type": "execute_result"
    }
   ],
   "source": [
    "model = Ridge(alpha=0.01)\n",
    "model.fit(X_train,y_train)\n",
    "pred = model.predict(X_test)\n",
    "pred[0:10]"
   ]
  },
  {
   "cell_type": "code",
   "execution_count": 30,
   "metadata": {},
   "outputs": [
    {
     "name": "stdout",
     "output_type": "stream",
     "text": [
      "130.57735384908366\n",
      "34387.41485979873\n",
      "185.4384395420721\n"
     ]
    }
   ],
   "source": [
    "mae_val = np.mean( abs( y_test - pred) )\n",
    "print(mae_val)\n",
    "mse_val = np.mean((y_test-pred)**2)\n",
    "print(mse_val)\n",
    "rmse_val =mse_val**0.5\n",
    "print(rmse_val)"
   ]
  },
  {
   "cell_type": "markdown",
   "metadata": {},
   "source": [
    "### Lasso 실험"
   ]
  },
  {
   "cell_type": "code",
   "execution_count": 35,
   "metadata": {},
   "outputs": [
    {
     "data": {
      "text/plain": [
       "array([1407.60364822,  379.70850871,  666.46742453,  451.19282297,\n",
       "        186.61869433,  751.09827934,  470.9126338 ,  297.54263025,\n",
       "        614.7029211 ,  402.71495468])"
      ]
     },
     "execution_count": 35,
     "metadata": {},
     "output_type": "execute_result"
    }
   ],
   "source": [
    "model = Lasso(alpha=10)\n",
    "model.fit(X_train,y_train)\n",
    "pred = model.predict(X_test)\n",
    "pred[0:10]"
   ]
  },
  {
   "cell_type": "code",
   "execution_count": 36,
   "metadata": {},
   "outputs": [
    {
     "data": {
      "text/plain": [
       "array([  -0.        ,    0.        ,    0.        ,   -0.        ,\n",
       "       1466.66093048,   -0.        ,   -0.        ,    0.        ,\n",
       "         -0.        ,    0.        ,   -0.        ,    0.        ,\n",
       "         -0.        ,    0.        ,    0.        ,   -0.        ,\n",
       "          0.        ,   -0.        ,   -0.        ,    0.        ])"
      ]
     },
     "execution_count": 36,
     "metadata": {},
     "output_type": "execute_result"
    }
   ],
   "source": [
    "model.coef_  "
   ]
  },
  {
   "cell_type": "code",
   "execution_count": null,
   "metadata": {},
   "outputs": [],
   "source": []
  }
 ],
 "metadata": {
  "kernelspec": {
   "display_name": "Python 3",
   "language": "python",
   "name": "python3"
  },
  "language_info": {
   "codemirror_mode": {
    "name": "ipython",
    "version": 3
   },
   "file_extension": ".py",
   "mimetype": "text/x-python",
   "name": "python",
   "nbconvert_exporter": "python",
   "pygments_lexer": "ipython3",
   "version": "3.8.5"
  }
 },
 "nbformat": 4,
 "nbformat_minor": 4
}
